{
 "cells": [
  {
   "cell_type": "code",
   "execution_count": 2,
   "metadata": {},
   "outputs": [
    {
     "data": {
      "text/html": [
       "<div>\n",
       "<style scoped>\n",
       "    .dataframe tbody tr th:only-of-type {\n",
       "        vertical-align: middle;\n",
       "    }\n",
       "\n",
       "    .dataframe tbody tr th {\n",
       "        vertical-align: top;\n",
       "    }\n",
       "\n",
       "    .dataframe thead th {\n",
       "        text-align: right;\n",
       "    }\n",
       "</style>\n",
       "<table border=\"1\" class=\"dataframe\">\n",
       "  <thead>\n",
       "    <tr style=\"text-align: right;\">\n",
       "      <th></th>\n",
       "      <th>Platform</th>\n",
       "      <th>Feedback</th>\n",
       "    </tr>\n",
       "  </thead>\n",
       "  <tbody>\n",
       "    <tr>\n",
       "      <th>0</th>\n",
       "      <td>Amazon</td>\n",
       "      <td>7.5</td>\n",
       "    </tr>\n",
       "    <tr>\n",
       "      <th>1</th>\n",
       "      <td>Amazon</td>\n",
       "      <td>7.5</td>\n",
       "    </tr>\n",
       "    <tr>\n",
       "      <th>2</th>\n",
       "      <td>Amazon</td>\n",
       "      <td>8.5</td>\n",
       "    </tr>\n",
       "    <tr>\n",
       "      <th>3</th>\n",
       "      <td>Amazon</td>\n",
       "      <td>9.5</td>\n",
       "    </tr>\n",
       "    <tr>\n",
       "      <th>4</th>\n",
       "      <td>Amazon</td>\n",
       "      <td>7.5</td>\n",
       "    </tr>\n",
       "    <tr>\n",
       "      <th>5</th>\n",
       "      <td>Amazon</td>\n",
       "      <td>6.0</td>\n",
       "    </tr>\n",
       "    <tr>\n",
       "      <th>6</th>\n",
       "      <td>Amazon</td>\n",
       "      <td>10.0</td>\n",
       "    </tr>\n",
       "    <tr>\n",
       "      <th>7</th>\n",
       "      <td>Amazon</td>\n",
       "      <td>8.5</td>\n",
       "    </tr>\n",
       "    <tr>\n",
       "      <th>8</th>\n",
       "      <td>Amazon</td>\n",
       "      <td>5.0</td>\n",
       "    </tr>\n",
       "    <tr>\n",
       "      <th>9</th>\n",
       "      <td>Amazon</td>\n",
       "      <td>8.0</td>\n",
       "    </tr>\n",
       "    <tr>\n",
       "      <th>10</th>\n",
       "      <td>Flipkart</td>\n",
       "      <td>7.5</td>\n",
       "    </tr>\n",
       "    <tr>\n",
       "      <th>11</th>\n",
       "      <td>Flipkart</td>\n",
       "      <td>6.0</td>\n",
       "    </tr>\n",
       "    <tr>\n",
       "      <th>12</th>\n",
       "      <td>Flipkart</td>\n",
       "      <td>10.0</td>\n",
       "    </tr>\n",
       "    <tr>\n",
       "      <th>13</th>\n",
       "      <td>Flipkart</td>\n",
       "      <td>9.0</td>\n",
       "    </tr>\n",
       "    <tr>\n",
       "      <th>14</th>\n",
       "      <td>Flipkart</td>\n",
       "      <td>6.5</td>\n",
       "    </tr>\n",
       "    <tr>\n",
       "      <th>15</th>\n",
       "      <td>Flipkart</td>\n",
       "      <td>10.0</td>\n",
       "    </tr>\n",
       "    <tr>\n",
       "      <th>16</th>\n",
       "      <td>Flipkart</td>\n",
       "      <td>9.0</td>\n",
       "    </tr>\n",
       "    <tr>\n",
       "      <th>17</th>\n",
       "      <td>Flipkart</td>\n",
       "      <td>6.5</td>\n",
       "    </tr>\n",
       "    <tr>\n",
       "      <th>18</th>\n",
       "      <td>Flipkart</td>\n",
       "      <td>10.0</td>\n",
       "    </tr>\n",
       "    <tr>\n",
       "      <th>19</th>\n",
       "      <td>Flipkart</td>\n",
       "      <td>9.0</td>\n",
       "    </tr>\n",
       "    <tr>\n",
       "      <th>20</th>\n",
       "      <td>Snapdeal</td>\n",
       "      <td>8.5</td>\n",
       "    </tr>\n",
       "    <tr>\n",
       "      <th>21</th>\n",
       "      <td>Snapdeal</td>\n",
       "      <td>7.5</td>\n",
       "    </tr>\n",
       "    <tr>\n",
       "      <th>22</th>\n",
       "      <td>Snapdeal</td>\n",
       "      <td>6.0</td>\n",
       "    </tr>\n",
       "    <tr>\n",
       "      <th>23</th>\n",
       "      <td>Snapdeal</td>\n",
       "      <td>8.0</td>\n",
       "    </tr>\n",
       "    <tr>\n",
       "      <th>24</th>\n",
       "      <td>Snapdeal</td>\n",
       "      <td>8.5</td>\n",
       "    </tr>\n",
       "    <tr>\n",
       "      <th>25</th>\n",
       "      <td>Snapdeal</td>\n",
       "      <td>5.0</td>\n",
       "    </tr>\n",
       "    <tr>\n",
       "      <th>26</th>\n",
       "      <td>Snapdeal</td>\n",
       "      <td>8.0</td>\n",
       "    </tr>\n",
       "    <tr>\n",
       "      <th>27</th>\n",
       "      <td>Snapdeal</td>\n",
       "      <td>10.0</td>\n",
       "    </tr>\n",
       "    <tr>\n",
       "      <th>28</th>\n",
       "      <td>Snapdeal</td>\n",
       "      <td>7.0</td>\n",
       "    </tr>\n",
       "    <tr>\n",
       "      <th>29</th>\n",
       "      <td>Snapdeal</td>\n",
       "      <td>6.0</td>\n",
       "    </tr>\n",
       "  </tbody>\n",
       "</table>\n",
       "</div>"
      ],
      "text/plain": [
       "    Platform  Feedback\n",
       "0     Amazon       7.5\n",
       "1     Amazon       7.5\n",
       "2     Amazon       8.5\n",
       "3     Amazon       9.5\n",
       "4     Amazon       7.5\n",
       "5     Amazon       6.0\n",
       "6     Amazon      10.0\n",
       "7     Amazon       8.5\n",
       "8     Amazon       5.0\n",
       "9     Amazon       8.0\n",
       "10  Flipkart       7.5\n",
       "11  Flipkart       6.0\n",
       "12  Flipkart      10.0\n",
       "13  Flipkart       9.0\n",
       "14  Flipkart       6.5\n",
       "15  Flipkart      10.0\n",
       "16  Flipkart       9.0\n",
       "17  Flipkart       6.5\n",
       "18  Flipkart      10.0\n",
       "19  Flipkart       9.0\n",
       "20  Snapdeal       8.5\n",
       "21  Snapdeal       7.5\n",
       "22  Snapdeal       6.0\n",
       "23  Snapdeal       8.0\n",
       "24  Snapdeal       8.5\n",
       "25  Snapdeal       5.0\n",
       "26  Snapdeal       8.0\n",
       "27  Snapdeal      10.0\n",
       "28  Snapdeal       7.0\n",
       "29  Snapdeal       6.0"
      ]
     },
     "execution_count": 2,
     "metadata": {},
     "output_type": "execute_result"
    }
   ],
   "source": [
    "import pandas as pd\n",
    "from scipy.stats import f_oneway\n",
    "\n",
    "# Sample feedback data (replace with your actual data)\n",
    "data = pd.DataFrame({\n",
    "    \"Platform\": [\"Amazon\"]*10 + [\"Flipkart\"]*10 + [\"Snapdeal\"]*10,\n",
    "    \"Feedback\": [7.5, 7.5, 8.5, 9.5, 7.5, 6, 10, 8.5, 5, 8,\n",
    "                 7.5, 6, 10, 9, 6.5, 10, 9, 6.5, 10, 9,\n",
    "                 8.5, 7.5, 6, 8, 8.5, 5, 8, 10, 7, 6]\n",
    "})\n",
    "\n",
    "data"
   ]
  },
  {
   "cell_type": "code",
   "execution_count": 3,
   "metadata": {},
   "outputs": [],
   "source": [
    "# Separate feedback by platform\n",
    "amazon = data[data[\"Platform\"] == \"Amazon\"][\"Feedback\"]\n",
    "flipkart = data[data[\"Platform\"] == \"Flipkart\"][\"Feedback\"]\n",
    "snapdeal = data[data[\"Platform\"] == \"Snapdeal\"][\"Feedback\"]\n",
    "\n",
    "\n"
   ]
  },
  {
   "cell_type": "code",
   "execution_count": 5,
   "metadata": {},
   "outputs": [
    {
     "name": "stdout",
     "output_type": "stream",
     "text": [
      "One-Way ANOVA Results:\n",
      "F-statistic: 0.8913\n",
      "P-value: 0.4218\n"
     ]
    }
   ],
   "source": [
    "# Perform ANOVA test\n",
    "f_statistic, p_value = f_oneway(amazon, flipkart, snapdeal)\n",
    "\n",
    "# Print results\n",
    "print(\"One-Way ANOVA Results:\")\n",
    "print(f\"F-statistic: {f_statistic:.4f}\")\n",
    "print(f\"P-value: {p_value:.4f}\")"
   ]
  },
  {
   "cell_type": "code",
   "execution_count": 7,
   "metadata": {},
   "outputs": [
    {
     "name": "stdout",
     "output_type": "stream",
     "text": [
      "\n",
      "ANOVA Table:\n",
      "                sum_sq    df         F    PR(>F)\n",
      "C(Platform)   4.116667   2.0  0.891339  0.421832\n",
      "Residual     62.350000  27.0       NaN       NaN\n"
     ]
    }
   ],
   "source": [
    "import pandas as pd\n",
    "from statsmodels.formula.api import ols\n",
    "from statsmodels.stats.anova import anova_lm\n",
    "\n",
    "# Fit the ANOVA model (using the same data as above)\n",
    "model = ols(\"Feedback ~ C(Platform)\", data=data).fit()\n",
    "\n",
    "# Perform ANOVA and get a table\n",
    "anova_table = anova_lm(model, typ=2)\n",
    "print(\"\\nANOVA Table:\")\n",
    "print(anova_table)\n"
   ]
  },
  {
   "cell_type": "code",
   "execution_count": 8,
   "metadata": {},
   "outputs": [],
   "source": [
    "import numpy as np\n",
    "\n",
    "# Feedback data (same as before)\n",
    "amazon = [7.5, 7.5, 8.5, 9.5, 7.5, 6, 10, 8.5, 5, 8]\n",
    "flipkart = [7.5, 6, 10, 9, 6.5, 10, 9, 6.5, 10, 9]\n",
    "snapdeal = [8.5, 7.5, 6, 8, 8.5, 5, 8, 10, 7, 6]\n",
    "all_feedback = amazon + flipkart + snapdeal\n"
   ]
  },
  {
   "cell_type": "code",
   "execution_count": 11,
   "metadata": {},
   "outputs": [],
   "source": [
    "all_feedback\n",
    "\n",
    "# Grand mean (mean of all feedback)\n",
    "grand_mean = np.mean(all_feedback)"
   ]
  },
  {
   "cell_type": "code",
   "execution_count": 12,
   "metadata": {},
   "outputs": [
    {
     "data": {
      "text/plain": [
       "np.float64(7.866666666666666)"
      ]
     },
     "execution_count": 12,
     "metadata": {},
     "output_type": "execute_result"
    }
   ],
   "source": [
    "grand_mean"
   ]
  },
  {
   "cell_type": "code",
   "execution_count": 16,
   "metadata": {},
   "outputs": [
    {
     "name": "stdout",
     "output_type": "stream",
     "text": [
      "Sum of Squares Between (SSB): 4.116666666666662\n",
      "Sum of Squares Within (SSW): 62.349999999999994\n",
      "Sum of Squares Total (SST): 66.46666666666667\n"
     ]
    }
   ],
   "source": [
    "# Calculate Sums of Squares\n",
    "ss_between = sum([len(group) * (np.mean(group) - grand_mean)**2 for group in [amazon, flipkart, snapdeal]])\n",
    "ss_within = sum([sum((x - np.mean(group))**2 for x in group) for group in [amazon, flipkart, snapdeal]])\n",
    "ss_total = sum((x - grand_mean)**2 for x in all_feedback)\n",
    "\n",
    "print(\"Sum of Squares Between (SSB):\", ss_between)\n",
    "print(\"Sum of Squares Within (SSW):\", ss_within)\n",
    "print(\"Sum of Squares Total (SST):\", ss_total)"
   ]
  },
  {
   "cell_type": "markdown",
   "metadata": {},
   "source": [
    "2. Calculating Degrees of Freedom"
   ]
  },
  {
   "cell_type": "code",
   "execution_count": 17,
   "metadata": {},
   "outputs": [
    {
     "name": "stdout",
     "output_type": "stream",
     "text": [
      "Degrees of Freedom Between (dfB): 2\n",
      "Degrees of Freedom Within (dfW): 27\n",
      "Degrees of Freedom Total (dfT): 29\n"
     ]
    }
   ],
   "source": [
    "n_groups = 3  # Number of platforms (Amazon, Flipkart, Snapdeal)\n",
    "n_total = len(all_feedback)  # Total number of feedback entries\n",
    "\n",
    "df_between = n_groups - 1\n",
    "df_within = n_total - n_groups\n",
    "df_total = n_total - 1\n",
    "\n",
    "print(\"Degrees of Freedom Between (dfB):\", df_between)\n",
    "print(\"Degrees of Freedom Within (dfW):\", df_within)\n",
    "print(\"Degrees of Freedom Total (dfT):\", df_total)"
   ]
  },
  {
   "cell_type": "markdown",
   "metadata": {},
   "source": [
    "3. Calculating Mean Squares\n",
    "\n"
   ]
  },
  {
   "cell_type": "code",
   "execution_count": 18,
   "metadata": {},
   "outputs": [
    {
     "name": "stdout",
     "output_type": "stream",
     "text": [
      "Mean Square Between (MSB): 2.058333333333331\n",
      "Mean Square Within (MSW): 2.309259259259259\n"
     ]
    }
   ],
   "source": [
    "ms_between = ss_between / df_between\n",
    "ms_within = ss_within / df_within\n",
    "\n",
    "print(\"Mean Square Between (MSB):\", ms_between)\n",
    "print(\"Mean Square Within (MSW):\", ms_within)"
   ]
  },
  {
   "cell_type": "code",
   "execution_count": 19,
   "metadata": {},
   "outputs": [
    {
     "name": "stdout",
     "output_type": "stream",
     "text": [
      "F-statistic: 0.8913392141138724\n"
     ]
    }
   ],
   "source": [
    "f_statistic = ms_between / ms_within\n",
    "\n",
    "print(\"F-statistic:\", f_statistic)"
   ]
  },
  {
   "cell_type": "markdown",
   "metadata": {},
   "source": [
    "Find P value"
   ]
  },
  {
   "cell_type": "code",
   "execution_count": 20,
   "metadata": {},
   "outputs": [
    {
     "name": "stdout",
     "output_type": "stream",
     "text": [
      "P-value: 0.42184753550605847\n"
     ]
    }
   ],
   "source": [
    "from scipy.stats import f\n",
    "\n",
    "# Your calculated F-statistic\n",
    "f_statistic = 0.8913\n",
    "\n",
    "# Degrees of freedom (from previous calculations)\n",
    "df_between = 2\n",
    "df_within = 27\n",
    "\n",
    "# Calculate p-value (1 - cumulative distribution function)\n",
    "p_value = 1 - f.cdf(f_statistic, df_between, df_within)\n",
    "\n",
    "print(\"P-value:\", p_value)"
   ]
  },
  {
   "cell_type": "code",
   "execution_count": 22,
   "metadata": {},
   "outputs": [
    {
     "name": "stdout",
     "output_type": "stream",
     "text": [
      "                sum_sq    df         F    PR(>F)\n",
      "C(Platform)   4.116667   2.0  0.891339  0.421832\n",
      "Residual     62.350000  27.0       NaN       NaN\n",
      "P-value from ANOVA table: 0.421832017958528\n"
     ]
    }
   ],
   "source": [
    "import pandas as pd\n",
    "from statsmodels.formula.api import ols\n",
    "from statsmodels.stats.anova import anova_lm\n",
    "\n",
    "# ... (Your DataFrame 'data' with 'Platform' and 'Feedback' columns)\n",
    "\n",
    "# Fit the ANOVA model\n",
    "model = ols(\"Feedback ~ C(Platform)\", data=data).fit()\n",
    "\n",
    "# Get ANOVA table\n",
    "anova_table = anova_lm(model, typ=2)\n",
    "print(anova_table)\n",
    "\n",
    "# Extract p-value from the table\n",
    "p_value = anova_table['PR(>F)'].iloc[0]  # Use .iloc[] for position-based access\n",
    "\n",
    "print(\"P-value from ANOVA table:\", p_value)\n"
   ]
  }
 ],
 "metadata": {
  "kernelspec": {
   "display_name": "Upgrad_ML",
   "language": "python",
   "name": "python3"
  },
  "language_info": {
   "codemirror_mode": {
    "name": "ipython",
    "version": 3
   },
   "file_extension": ".py",
   "mimetype": "text/x-python",
   "name": "python",
   "nbconvert_exporter": "python",
   "pygments_lexer": "ipython3",
   "version": "3.9.19"
  }
 },
 "nbformat": 4,
 "nbformat_minor": 2
}
