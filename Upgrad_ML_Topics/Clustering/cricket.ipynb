{
 "cells": [
  {
   "cell_type": "code",
   "execution_count": null,
   "metadata": {},
   "outputs": [],
   "source": [
    "import pandas as pd\n",
    "import numpy as np\n",
    "import matplotlib.pyplot as plt"
   ]
  },
  {
   "cell_type": "code",
   "execution_count": null,
   "metadata": {},
   "outputs": [],
   "source": [
    "df=pd.read_csv(\"Cricket.csv\")"
   ]
  },
  {
   "cell_type": "code",
   "execution_count": null,
   "metadata": {},
   "outputs": [],
   "source": [
    "import sklearn\n",
    "from sklearn.preprocessing import StandardScaler\n",
    "\n",
    "# 2. Rescaling\n",
    "rfm_df=group_df[[\"Amount\",\"Frequency\",\"Recency\"]]\n",
    "\n",
    "#instantiate\n",
    "\n",
    "scaler=StandardScaler()\n",
    "\n",
    "rfm_df_scaled=scaler.fit_transform(rfm_df)\n"
   ]
  }
 ],
 "metadata": {
  "kernelspec": {
   "display_name": "Upgrad_ML",
   "language": "python",
   "name": "python3"
  },
  "language_info": {
   "name": "python",
   "version": "3.8.19"
  }
 },
 "nbformat": 4,
 "nbformat_minor": 2
}
