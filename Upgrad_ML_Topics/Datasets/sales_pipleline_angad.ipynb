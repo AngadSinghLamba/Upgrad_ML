{
 "cells": [
  {
   "cell_type": "markdown",
   "metadata": {},
   "source": [
    "# Business Problem: Sales Pipeline Conversion at a SaaS Startup\n",
    " \n"
   ]
  },
  {
   "cell_type": "markdown",
   "metadata": {},
   "source": [
    "This assignment is around a case study about TechnoServe, a fictional tech SaaS (Software as a service) startup that specialises in different types of cloud-based software services to the small and medium enterprise customers. The products provided by the company are inclined towards increasing the productivity for the customers.\n",
    "\n",
    "The revenue that the company generates is highly dependent on the consumption of the cloud services that they provide. Therefore, the revenue in-flow in the company is highly dependent on the number of clients that the company has. The company is facing a very pertinent problem faced in the IT industry today, declining conversions across its sales funnel.\n",
    "\n",
    " \n",
    "\n",
    "The problem that the company is facing is that its pipeline conversion percentage has dropped from 35% at the end of the last fiscal (FY 2019-20) to 25% at present. The company needs a solution to solve the issue, and they have asked you to come up with one.\n",
    "\n",
    " \n",
    "    Here are a few details about TechnoServe that you should be aware of:\n",
    "\n",
    "The company is based out of Pune and started its operations in 2010.\n",
    "It has clients spread over Pune and other cities as well.\n",
    "There are more than 600 employees, distributed over multiple teams.\n",
    "It has a wide variety of IT solutions spread across different industries.\n",
    "To get a brief idea about IT solutions,"
   ]
  },
  {
   "cell_type": "markdown",
   "metadata": {},
   "source": [
    "## Problem Statement\n"
   ]
  },
  {
   "cell_type": "markdown",
   "metadata": {},
   "source": [
    "Understand the problem, come up with possible hypotheses for low conversions faced by TechnoServe. Once that is done, you need to analyse the dataset given below to validate the hypotheses and form the solution strategy that they should employ to solve the problem. \n",
    "The dataset and the data dictionary are given below"
   ]
  },
  {
   "cell_type": "code",
   "execution_count": 13,
   "metadata": {},
   "outputs": [],
   "source": [
    "import numpy as np\n",
    "import pandas as pd\n",
    "import matplotlib.pyplot as plt\n",
    "import seaborn as sns\n"
   ]
  },
  {
   "cell_type": "code",
   "execution_count": 3,
   "metadata": {},
   "outputs": [
    {
     "data": {
      "text/html": [
       "<div>\n",
       "<style scoped>\n",
       "    .dataframe tbody tr th:only-of-type {\n",
       "        vertical-align: middle;\n",
       "    }\n",
       "\n",
       "    .dataframe tbody tr th {\n",
       "        vertical-align: top;\n",
       "    }\n",
       "\n",
       "    .dataframe thead th {\n",
       "        text-align: right;\n",
       "    }\n",
       "</style>\n",
       "<table border=\"1\" class=\"dataframe\">\n",
       "  <thead>\n",
       "    <tr style=\"text-align: right;\">\n",
       "      <th></th>\n",
       "      <th>Opportunity ID</th>\n",
       "      <th>Technology\\nPrimary</th>\n",
       "      <th>City</th>\n",
       "      <th>B2B Sales Medium</th>\n",
       "      <th>Sales Velocity</th>\n",
       "      <th>Opportunity Status</th>\n",
       "      <th>Sales Stage Iterations</th>\n",
       "      <th>Opportunity Size (USD)</th>\n",
       "      <th>Client Revenue Sizing</th>\n",
       "      <th>Client Employee Sizing</th>\n",
       "      <th>Business from Client Last Year</th>\n",
       "      <th>Compete Intel</th>\n",
       "      <th>Opportunity Sizing</th>\n",
       "    </tr>\n",
       "  </thead>\n",
       "  <tbody>\n",
       "    <tr>\n",
       "      <th>0</th>\n",
       "      <td>N00000001</td>\n",
       "      <td>ERP Implementation</td>\n",
       "      <td>Bengaluru</td>\n",
       "      <td>Marketing</td>\n",
       "      <td>76</td>\n",
       "      <td>Won</td>\n",
       "      <td>13</td>\n",
       "      <td>0</td>\n",
       "      <td>More than 1M</td>\n",
       "      <td>More than 25K</td>\n",
       "      <td>0 (No business)</td>\n",
       "      <td>Unknown</td>\n",
       "      <td>10K or less</td>\n",
       "    </tr>\n",
       "    <tr>\n",
       "      <th>1</th>\n",
       "      <td>N00000002</td>\n",
       "      <td>ERP Implementation</td>\n",
       "      <td>Delhi</td>\n",
       "      <td>Enterprise Sellers</td>\n",
       "      <td>63</td>\n",
       "      <td>Loss</td>\n",
       "      <td>2</td>\n",
       "      <td>0</td>\n",
       "      <td>250K to 500K</td>\n",
       "      <td>More than 25K</td>\n",
       "      <td>0 (No business)</td>\n",
       "      <td>Unknown</td>\n",
       "      <td>10K or less</td>\n",
       "    </tr>\n",
       "    <tr>\n",
       "      <th>2</th>\n",
       "      <td>N00000003</td>\n",
       "      <td>Technical Business Solutions</td>\n",
       "      <td>Delhi</td>\n",
       "      <td>Enterprise Sellers</td>\n",
       "      <td>24</td>\n",
       "      <td>Won</td>\n",
       "      <td>7</td>\n",
       "      <td>7750</td>\n",
       "      <td>100K or less</td>\n",
       "      <td>1K or less</td>\n",
       "      <td>0 (No business)</td>\n",
       "      <td>Unknown</td>\n",
       "      <td>10K or less</td>\n",
       "    </tr>\n",
       "    <tr>\n",
       "      <th>3</th>\n",
       "      <td>N00000004</td>\n",
       "      <td>Technical Business Solutions</td>\n",
       "      <td>Mumbai</td>\n",
       "      <td>Enterprise Sellers</td>\n",
       "      <td>16</td>\n",
       "      <td>Loss</td>\n",
       "      <td>5</td>\n",
       "      <td>0</td>\n",
       "      <td>100K or less</td>\n",
       "      <td>1K or less</td>\n",
       "      <td>0 (No business)</td>\n",
       "      <td>Known</td>\n",
       "      <td>10K or less</td>\n",
       "    </tr>\n",
       "    <tr>\n",
       "      <th>4</th>\n",
       "      <td>N00000005</td>\n",
       "      <td>ERP Implementation</td>\n",
       "      <td>Delhi</td>\n",
       "      <td>Enterprise Sellers</td>\n",
       "      <td>69</td>\n",
       "      <td>Loss</td>\n",
       "      <td>11</td>\n",
       "      <td>32886</td>\n",
       "      <td>100K or less</td>\n",
       "      <td>1K or less</td>\n",
       "      <td>0 (No business)</td>\n",
       "      <td>Unknown</td>\n",
       "      <td>30K to 40K</td>\n",
       "    </tr>\n",
       "  </tbody>\n",
       "</table>\n",
       "</div>"
      ],
      "text/plain": [
       "  Opportunity ID           Technology\\nPrimary       City    B2B Sales Medium  \\\n",
       "0      N00000001            ERP Implementation  Bengaluru           Marketing   \n",
       "1      N00000002            ERP Implementation      Delhi  Enterprise Sellers   \n",
       "2      N00000003  Technical Business Solutions      Delhi  Enterprise Sellers   \n",
       "3      N00000004  Technical Business Solutions     Mumbai  Enterprise Sellers   \n",
       "4      N00000005            ERP Implementation      Delhi  Enterprise Sellers   \n",
       "\n",
       "   Sales Velocity Opportunity Status  Sales Stage Iterations  \\\n",
       "0              76                Won                      13   \n",
       "1              63               Loss                       2   \n",
       "2              24                Won                       7   \n",
       "3              16               Loss                       5   \n",
       "4              69               Loss                      11   \n",
       "\n",
       "   Opportunity Size (USD) Client Revenue Sizing Client Employee Sizing  \\\n",
       "0                       0          More than 1M          More than 25K   \n",
       "1                       0          250K to 500K          More than 25K   \n",
       "2                    7750          100K or less             1K or less   \n",
       "3                       0          100K or less             1K or less   \n",
       "4                   32886          100K or less             1K or less   \n",
       "\n",
       "  Business from Client Last Year Compete Intel Opportunity Sizing  \n",
       "0                0 (No business)       Unknown        10K or less  \n",
       "1                0 (No business)       Unknown        10K or less  \n",
       "2                0 (No business)       Unknown        10K or less  \n",
       "3                0 (No business)         Known        10K or less  \n",
       "4                0 (No business)       Unknown         30K to 40K  "
      ]
     },
     "execution_count": 3,
     "metadata": {},
     "output_type": "execute_result"
    }
   ],
   "source": [
    "df = pd.read_excel(\"Sales Dataset.xlsx\")\n",
    "df.head()"
   ]
  },
  {
   "cell_type": "code",
   "execution_count": 4,
   "metadata": {},
   "outputs": [
    {
     "name": "stdout",
     "output_type": "stream",
     "text": [
      "<class 'pandas.core.frame.DataFrame'>\n",
      "RangeIndex: 78025 entries, 0 to 78024\n",
      "Data columns (total 13 columns):\n",
      " #   Column                          Non-Null Count  Dtype \n",
      "---  ------                          --------------  ----- \n",
      " 0   Opportunity ID                  78025 non-null  object\n",
      " 1   Technology\n",
      "Primary              78025 non-null  object\n",
      " 2   City                            78025 non-null  object\n",
      " 3   B2B Sales Medium                78025 non-null  object\n",
      " 4   Sales Velocity                  78025 non-null  int64 \n",
      " 5   Opportunity Status              78025 non-null  object\n",
      " 6   Sales Stage Iterations          78025 non-null  int64 \n",
      " 7   Opportunity Size (USD)          78025 non-null  int64 \n",
      " 8   Client Revenue Sizing           78025 non-null  object\n",
      " 9   Client Employee Sizing          78025 non-null  object\n",
      " 10  Business from Client Last Year  78025 non-null  object\n",
      " 11  Compete Intel                   68768 non-null  object\n",
      " 12  Opportunity Sizing              78025 non-null  object\n",
      "dtypes: int64(3), object(10)\n",
      "memory usage: 7.7+ MB\n"
     ]
    }
   ],
   "source": [
    "df.info()"
   ]
  },
  {
   "cell_type": "code",
   "execution_count": 5,
   "metadata": {},
   "outputs": [
    {
     "data": {
      "text/plain": [
       "(78025, 13)"
      ]
     },
     "execution_count": 5,
     "metadata": {},
     "output_type": "execute_result"
    }
   ],
   "source": [
    "df.shape"
   ]
  },
  {
   "cell_type": "code",
   "execution_count": 6,
   "metadata": {},
   "outputs": [
    {
     "data": {
      "text/html": [
       "<div>\n",
       "<style scoped>\n",
       "    .dataframe tbody tr th:only-of-type {\n",
       "        vertical-align: middle;\n",
       "    }\n",
       "\n",
       "    .dataframe tbody tr th {\n",
       "        vertical-align: top;\n",
       "    }\n",
       "\n",
       "    .dataframe thead th {\n",
       "        text-align: right;\n",
       "    }\n",
       "</style>\n",
       "<table border=\"1\" class=\"dataframe\">\n",
       "  <thead>\n",
       "    <tr style=\"text-align: right;\">\n",
       "      <th></th>\n",
       "      <th>Sales Velocity</th>\n",
       "      <th>Sales Stage Iterations</th>\n",
       "      <th>Opportunity Size (USD)</th>\n",
       "    </tr>\n",
       "  </thead>\n",
       "  <tbody>\n",
       "    <tr>\n",
       "      <th>count</th>\n",
       "      <td>78025.000000</td>\n",
       "      <td>78025.000000</td>\n",
       "      <td>78025.000000</td>\n",
       "    </tr>\n",
       "    <tr>\n",
       "      <th>mean</th>\n",
       "      <td>43.595348</td>\n",
       "      <td>2.955732</td>\n",
       "      <td>30085.664992</td>\n",
       "    </tr>\n",
       "    <tr>\n",
       "      <th>std</th>\n",
       "      <td>26.585600</td>\n",
       "      <td>1.497242</td>\n",
       "      <td>21169.932617</td>\n",
       "    </tr>\n",
       "    <tr>\n",
       "      <th>min</th>\n",
       "      <td>0.000000</td>\n",
       "      <td>1.000000</td>\n",
       "      <td>0.000000</td>\n",
       "    </tr>\n",
       "    <tr>\n",
       "      <th>25%</th>\n",
       "      <td>19.000000</td>\n",
       "      <td>2.000000</td>\n",
       "      <td>13816.000000</td>\n",
       "    </tr>\n",
       "    <tr>\n",
       "      <th>50%</th>\n",
       "      <td>43.000000</td>\n",
       "      <td>3.000000</td>\n",
       "      <td>29845.000000</td>\n",
       "    </tr>\n",
       "    <tr>\n",
       "      <th>75%</th>\n",
       "      <td>65.000000</td>\n",
       "      <td>3.000000</td>\n",
       "      <td>43185.000000</td>\n",
       "    </tr>\n",
       "    <tr>\n",
       "      <th>max</th>\n",
       "      <td>210.000000</td>\n",
       "      <td>23.000000</td>\n",
       "      <td>149981.000000</td>\n",
       "    </tr>\n",
       "  </tbody>\n",
       "</table>\n",
       "</div>"
      ],
      "text/plain": [
       "       Sales Velocity  Sales Stage Iterations  Opportunity Size (USD)\n",
       "count    78025.000000            78025.000000            78025.000000\n",
       "mean        43.595348                2.955732            30085.664992\n",
       "std         26.585600                1.497242            21169.932617\n",
       "min          0.000000                1.000000                0.000000\n",
       "25%         19.000000                2.000000            13816.000000\n",
       "50%         43.000000                3.000000            29845.000000\n",
       "75%         65.000000                3.000000            43185.000000\n",
       "max        210.000000               23.000000           149981.000000"
      ]
     },
     "execution_count": 6,
     "metadata": {},
     "output_type": "execute_result"
    }
   ],
   "source": [
    "df.describe()"
   ]
  },
  {
   "cell_type": "markdown",
   "metadata": {},
   "source": [
    "# Duplicate Check"
   ]
  },
  {
   "cell_type": "code",
   "execution_count": 7,
   "metadata": {},
   "outputs": [
    {
     "data": {
      "text/plain": [
       "(78025, 13)"
      ]
     },
     "execution_count": 7,
     "metadata": {},
     "output_type": "execute_result"
    }
   ],
   "source": [
    "df_dub = df.copy()\n",
    "\n",
    "# Checking for duplicates and dropping the entire duplicate row if any\n",
    "df_dub.drop_duplicates(subset=None, inplace=True)\n",
    "df_dub.shape"
   ]
  },
  {
   "cell_type": "code",
   "execution_count": 8,
   "metadata": {},
   "outputs": [
    {
     "data": {
      "text/plain": [
       "(78025, 13)"
      ]
     },
     "execution_count": 8,
     "metadata": {},
     "output_type": "execute_result"
    }
   ],
   "source": [
    "df.shape"
   ]
  },
  {
   "cell_type": "markdown",
   "metadata": {},
   "source": [
    "The shape after running the drop duplicate command is same as the original dataframe.\n",
    "\n",
    "Hence we can conclude that there were zero duplicate values in the dataset."
   ]
  },
  {
   "cell_type": "markdown",
   "metadata": {},
   "source": [
    "# Data Preparation"
   ]
  },
  {
   "cell_type": "markdown",
   "metadata": {},
   "source": [
    "Converting some binary variables (Won/Lost) to 1/0"
   ]
  },
  {
   "cell_type": "code",
   "execution_count": null,
   "metadata": {},
   "outputs": [
    {
     "data": {
      "text/html": [
       "<div>\n",
       "<style scoped>\n",
       "    .dataframe tbody tr th:only-of-type {\n",
       "        vertical-align: middle;\n",
       "    }\n",
       "\n",
       "    .dataframe tbody tr th {\n",
       "        vertical-align: top;\n",
       "    }\n",
       "\n",
       "    .dataframe thead th {\n",
       "        text-align: right;\n",
       "    }\n",
       "</style>\n",
       "<table border=\"1\" class=\"dataframe\">\n",
       "  <thead>\n",
       "    <tr style=\"text-align: right;\">\n",
       "      <th></th>\n",
       "      <th>Opportunity ID</th>\n",
       "      <th>Technology\\nPrimary</th>\n",
       "      <th>City</th>\n",
       "      <th>B2B Sales Medium</th>\n",
       "      <th>Sales Velocity</th>\n",
       "      <th>Opportunity Status</th>\n",
       "      <th>Sales Stage Iterations</th>\n",
       "      <th>Opportunity Size (USD)</th>\n",
       "      <th>Client Revenue Sizing</th>\n",
       "      <th>Client Employee Sizing</th>\n",
       "      <th>Business from Client Last Year</th>\n",
       "      <th>Compete Intel</th>\n",
       "      <th>Opportunity Sizing</th>\n",
       "    </tr>\n",
       "  </thead>\n",
       "  <tbody>\n",
       "    <tr>\n",
       "      <th>0</th>\n",
       "      <td>N00000001</td>\n",
       "      <td>ERP Implementation</td>\n",
       "      <td>Bengaluru</td>\n",
       "      <td>Marketing</td>\n",
       "      <td>76</td>\n",
       "      <td>1</td>\n",
       "      <td>13</td>\n",
       "      <td>0</td>\n",
       "      <td>More than 1M</td>\n",
       "      <td>More than 25K</td>\n",
       "      <td>0 (No business)</td>\n",
       "      <td>Unknown</td>\n",
       "      <td>10K or less</td>\n",
       "    </tr>\n",
       "    <tr>\n",
       "      <th>1</th>\n",
       "      <td>N00000002</td>\n",
       "      <td>ERP Implementation</td>\n",
       "      <td>Delhi</td>\n",
       "      <td>Enterprise Sellers</td>\n",
       "      <td>63</td>\n",
       "      <td>0</td>\n",
       "      <td>2</td>\n",
       "      <td>0</td>\n",
       "      <td>250K to 500K</td>\n",
       "      <td>More than 25K</td>\n",
       "      <td>0 (No business)</td>\n",
       "      <td>Unknown</td>\n",
       "      <td>10K or less</td>\n",
       "    </tr>\n",
       "    <tr>\n",
       "      <th>2</th>\n",
       "      <td>N00000003</td>\n",
       "      <td>Technical Business Solutions</td>\n",
       "      <td>Delhi</td>\n",
       "      <td>Enterprise Sellers</td>\n",
       "      <td>24</td>\n",
       "      <td>1</td>\n",
       "      <td>7</td>\n",
       "      <td>7750</td>\n",
       "      <td>100K or less</td>\n",
       "      <td>1K or less</td>\n",
       "      <td>0 (No business)</td>\n",
       "      <td>Unknown</td>\n",
       "      <td>10K or less</td>\n",
       "    </tr>\n",
       "    <tr>\n",
       "      <th>3</th>\n",
       "      <td>N00000004</td>\n",
       "      <td>Technical Business Solutions</td>\n",
       "      <td>Mumbai</td>\n",
       "      <td>Enterprise Sellers</td>\n",
       "      <td>16</td>\n",
       "      <td>0</td>\n",
       "      <td>5</td>\n",
       "      <td>0</td>\n",
       "      <td>100K or less</td>\n",
       "      <td>1K or less</td>\n",
       "      <td>0 (No business)</td>\n",
       "      <td>Known</td>\n",
       "      <td>10K or less</td>\n",
       "    </tr>\n",
       "    <tr>\n",
       "      <th>4</th>\n",
       "      <td>N00000005</td>\n",
       "      <td>ERP Implementation</td>\n",
       "      <td>Delhi</td>\n",
       "      <td>Enterprise Sellers</td>\n",
       "      <td>69</td>\n",
       "      <td>0</td>\n",
       "      <td>11</td>\n",
       "      <td>32886</td>\n",
       "      <td>100K or less</td>\n",
       "      <td>1K or less</td>\n",
       "      <td>0 (No business)</td>\n",
       "      <td>Unknown</td>\n",
       "      <td>30K to 40K</td>\n",
       "    </tr>\n",
       "  </tbody>\n",
       "</table>\n",
       "</div>"
      ],
      "text/plain": [
       "  Opportunity ID           Technology\\nPrimary       City    B2B Sales Medium  \\\n",
       "0      N00000001            ERP Implementation  Bengaluru           Marketing   \n",
       "1      N00000002            ERP Implementation      Delhi  Enterprise Sellers   \n",
       "2      N00000003  Technical Business Solutions      Delhi  Enterprise Sellers   \n",
       "3      N00000004  Technical Business Solutions     Mumbai  Enterprise Sellers   \n",
       "4      N00000005            ERP Implementation      Delhi  Enterprise Sellers   \n",
       "\n",
       "   Sales Velocity  Opportunity Status  Sales Stage Iterations  \\\n",
       "0              76                   1                      13   \n",
       "1              63                   0                       2   \n",
       "2              24                   1                       7   \n",
       "3              16                   0                       5   \n",
       "4              69                   0                      11   \n",
       "\n",
       "   Opportunity Size (USD) Client Revenue Sizing Client Employee Sizing  \\\n",
       "0                       0          More than 1M          More than 25K   \n",
       "1                       0          250K to 500K          More than 25K   \n",
       "2                    7750          100K or less             1K or less   \n",
       "3                       0          100K or less             1K or less   \n",
       "4                   32886          100K or less             1K or less   \n",
       "\n",
       "  Business from Client Last Year Compete Intel Opportunity Sizing  \n",
       "0                0 (No business)       Unknown        10K or less  \n",
       "1                0 (No business)       Unknown        10K or less  \n",
       "2                0 (No business)       Unknown        10K or less  \n",
       "3                0 (No business)         Known        10K or less  \n",
       "4                0 (No business)       Unknown         30K to 40K  "
      ]
     },
     "metadata": {},
     "output_type": "display_data"
    }
   ],
   "source": [
    "# List of variables to map\n",
    "\n",
    "varlist =  ['Opportunity Status']\n",
    "\n",
    "# Defining the map function\n",
    "def binary_map(x):\n",
    "    return x.map({'Won': 1, \"Loss\": 0})\n",
    "\n",
    "# Applying the function to the housing list\n",
    "df[varlist] = df[varlist].apply(binary_map)\n",
    "df.head()"
   ]
  },
  {
   "cell_type": "code",
   "execution_count": 10,
   "metadata": {},
   "outputs": [
    {
     "data": {
      "text/html": [
       "<div>\n",
       "<style scoped>\n",
       "    .dataframe tbody tr th:only-of-type {\n",
       "        vertical-align: middle;\n",
       "    }\n",
       "\n",
       "    .dataframe tbody tr th {\n",
       "        vertical-align: top;\n",
       "    }\n",
       "\n",
       "    .dataframe thead th {\n",
       "        text-align: right;\n",
       "    }\n",
       "</style>\n",
       "<table border=\"1\" class=\"dataframe\">\n",
       "  <thead>\n",
       "    <tr style=\"text-align: right;\">\n",
       "      <th></th>\n",
       "      <th>Technology\\nPrimary</th>\n",
       "      <th>City</th>\n",
       "      <th>B2B Sales Medium</th>\n",
       "      <th>Sales Velocity</th>\n",
       "      <th>Opportunity Status</th>\n",
       "      <th>Sales Stage Iterations</th>\n",
       "      <th>Opportunity Size (USD)</th>\n",
       "      <th>Client Revenue Sizing</th>\n",
       "      <th>Client Employee Sizing</th>\n",
       "      <th>Business from Client Last Year</th>\n",
       "      <th>Compete Intel</th>\n",
       "      <th>Opportunity Sizing</th>\n",
       "    </tr>\n",
       "  </thead>\n",
       "  <tbody>\n",
       "    <tr>\n",
       "      <th>0</th>\n",
       "      <td>ERP Implementation</td>\n",
       "      <td>Bengaluru</td>\n",
       "      <td>Marketing</td>\n",
       "      <td>76</td>\n",
       "      <td>Won</td>\n",
       "      <td>13</td>\n",
       "      <td>0</td>\n",
       "      <td>More than 1M</td>\n",
       "      <td>More than 25K</td>\n",
       "      <td>0 (No business)</td>\n",
       "      <td>Unknown</td>\n",
       "      <td>10K or less</td>\n",
       "    </tr>\n",
       "    <tr>\n",
       "      <th>1</th>\n",
       "      <td>ERP Implementation</td>\n",
       "      <td>Delhi</td>\n",
       "      <td>Enterprise Sellers</td>\n",
       "      <td>63</td>\n",
       "      <td>Loss</td>\n",
       "      <td>2</td>\n",
       "      <td>0</td>\n",
       "      <td>250K to 500K</td>\n",
       "      <td>More than 25K</td>\n",
       "      <td>0 (No business)</td>\n",
       "      <td>Unknown</td>\n",
       "      <td>10K or less</td>\n",
       "    </tr>\n",
       "    <tr>\n",
       "      <th>2</th>\n",
       "      <td>Technical Business Solutions</td>\n",
       "      <td>Delhi</td>\n",
       "      <td>Enterprise Sellers</td>\n",
       "      <td>24</td>\n",
       "      <td>Won</td>\n",
       "      <td>7</td>\n",
       "      <td>7750</td>\n",
       "      <td>100K or less</td>\n",
       "      <td>1K or less</td>\n",
       "      <td>0 (No business)</td>\n",
       "      <td>Unknown</td>\n",
       "      <td>10K or less</td>\n",
       "    </tr>\n",
       "    <tr>\n",
       "      <th>3</th>\n",
       "      <td>Technical Business Solutions</td>\n",
       "      <td>Mumbai</td>\n",
       "      <td>Enterprise Sellers</td>\n",
       "      <td>16</td>\n",
       "      <td>Loss</td>\n",
       "      <td>5</td>\n",
       "      <td>0</td>\n",
       "      <td>100K or less</td>\n",
       "      <td>1K or less</td>\n",
       "      <td>0 (No business)</td>\n",
       "      <td>Known</td>\n",
       "      <td>10K or less</td>\n",
       "    </tr>\n",
       "    <tr>\n",
       "      <th>4</th>\n",
       "      <td>ERP Implementation</td>\n",
       "      <td>Delhi</td>\n",
       "      <td>Enterprise Sellers</td>\n",
       "      <td>69</td>\n",
       "      <td>Loss</td>\n",
       "      <td>11</td>\n",
       "      <td>32886</td>\n",
       "      <td>100K or less</td>\n",
       "      <td>1K or less</td>\n",
       "      <td>0 (No business)</td>\n",
       "      <td>Unknown</td>\n",
       "      <td>30K to 40K</td>\n",
       "    </tr>\n",
       "  </tbody>\n",
       "</table>\n",
       "</div>"
      ],
      "text/plain": [
       "            Technology\\nPrimary       City    B2B Sales Medium  \\\n",
       "0            ERP Implementation  Bengaluru           Marketing   \n",
       "1            ERP Implementation      Delhi  Enterprise Sellers   \n",
       "2  Technical Business Solutions      Delhi  Enterprise Sellers   \n",
       "3  Technical Business Solutions     Mumbai  Enterprise Sellers   \n",
       "4            ERP Implementation      Delhi  Enterprise Sellers   \n",
       "\n",
       "   Sales Velocity Opportunity Status  Sales Stage Iterations  \\\n",
       "0              76                Won                      13   \n",
       "1              63               Loss                       2   \n",
       "2              24                Won                       7   \n",
       "3              16               Loss                       5   \n",
       "4              69               Loss                      11   \n",
       "\n",
       "   Opportunity Size (USD) Client Revenue Sizing Client Employee Sizing  \\\n",
       "0                       0          More than 1M          More than 25K   \n",
       "1                       0          250K to 500K          More than 25K   \n",
       "2                    7750          100K or less             1K or less   \n",
       "3                       0          100K or less             1K or less   \n",
       "4                   32886          100K or less             1K or less   \n",
       "\n",
       "  Business from Client Last Year Compete Intel Opportunity Sizing  \n",
       "0                0 (No business)       Unknown        10K or less  \n",
       "1                0 (No business)       Unknown        10K or less  \n",
       "2                0 (No business)       Unknown        10K or less  \n",
       "3                0 (No business)         Known        10K or less  \n",
       "4                0 (No business)       Unknown         30K to 40K  "
      ]
     },
     "execution_count": 10,
     "metadata": {},
     "output_type": "execute_result"
    }
   ],
   "source": [
    "#Dproping 'Opportunity ID' field as it will not help to take decision \n",
    "df= df.drop(['Opportunity ID'],axis=1)\n",
    "df.head()"
   ]
  },
  {
   "cell_type": "code",
   "execution_count": 11,
   "metadata": {},
   "outputs": [
    {
     "data": {
      "text/plain": [
       "Technology\\nPrimary\n",
       "ERP Implementation              49810\n",
       "Technical Business Solutions    27325\n",
       "Legacy Modernization              609\n",
       "Analytics                         281\n",
       "Name: count, dtype: int64"
      ]
     },
     "execution_count": 11,
     "metadata": {},
     "output_type": "execute_result"
    }
   ],
   "source": [
    "df['Technology\\nPrimary'].value_counts()"
   ]
  },
  {
   "cell_type": "code",
   "execution_count": 19,
   "metadata": {},
   "outputs": [
    {
     "data": {
      "image/png": "[encoded data removed]",
      "text/plain": [
       "<Figure size 1000x500 with 1 Axes>"
      ]
     },
     "metadata": {},
     "output_type": "display_data"
    }
   ],
   "source": [
    "import matplotlib.pyplot as plt\n",
    "import seaborn as sns\n",
    "\n",
    "# Assuming df is your DataFrame and it's already defined\n",
    "plt.figure(figsize=(10, 5))\n",
    "ax = sns.countplot(x=df[\"Technology\\nPrimary\"], hue=df[\"Technology\\nPrimary\"], palette='viridis', dodge=False, legend=False)\n",
    "for p in ax.patches:\n",
    "    ax.annotate(str(p.get_height()), (p.get_x() + p.get_width() / 2, p.get_height()), \n",
    "                ha='center', va='bottom')\n",
    "ax.set_yscale(\"log\")\n",
    "plt.xticks(rotation=90)\n",
    "plt.show()\n"
   ]
  },
  {
   "cell_type": "code",
   "execution_count": 23,
   "metadata": {},
   "outputs": [
    {
     "data": {
      "image/png": "[encoded data removed]",
      "text/plain": [
       "<Figure size 2000x600 with 1 Axes>"
      ]
     },
     "metadata": {},
     "output_type": "display_data"
    }
   ],
   "source": [
    "# Assuming df is your DataFrame and it's already defined\n",
    "plt.figure(figsize=(20, 6))\n",
    "ax = sns.countplot(x=\"Technology\\nPrimary\", hue=\"Opportunity Status\", palette='viridis', legend=False,data=df)\n",
    "for p in ax.patches:\n",
    "    ax.annotate(str(p.get_height()), (p.get_x() * 1.01 , p.get_height() * 1.01))\n",
    "plt.xticks(rotation = 90)\n",
    "ax.set_yscale('log')\n",
    "plt.show()\n"
   ]
  },
  {
   "cell_type": "code",
   "execution_count": 24,
   "metadata": {},
   "outputs": [
    {
     "data": {
      "text/plain": [
       "City\n",
       "Mumbai       21020\n",
       "Delhi        15142\n",
       "Bengaluru     9552\n",
       "Hyderabad     9232\n",
       "Pune          8153\n",
       "Chennai       7568\n",
       "Kolkata       7358\n",
       "Name: count, dtype: int64"
      ]
     },
     "execution_count": 24,
     "metadata": {},
     "output_type": "execute_result"
    }
   ],
   "source": [
    "df['City'].value_counts()"
   ]
  },
  {
   "cell_type": "code",
   "execution_count": 25,
   "metadata": {},
   "outputs": [
    {
     "data": {
      "image/png": "[encoded data removed]",
      "text/plain": [
       "<Figure size 1000x500 with 1 Axes>"
      ]
     },
     "metadata": {},
     "output_type": "display_data"
    }
   ],
   "source": [
    "plt.figure(figsize=(10,5))\n",
    "ax=sns.countplot(x=\"City\",hue=df[\"City\"],palette='viridis', legend=False,data=df)\n",
    "for p in ax.patches:\n",
    "    ax.annotate(str(p.get_height()), (p.get_x() * 1.01 , p.get_height() * 1.01))\n",
    "ax.set_yscale('log')\n",
    "plt.xticks(rotation = 90)\n",
    "plt.show()\n"
   ]
  }
 ],
 "metadata": {
  "kernelspec": {
   "display_name": "Upgrad_ML",
   "language": "python",
   "name": "python3"
  },
  "language_info": {
   "codemirror_mode": {
    "name": "ipython",
    "version": 3
   },
   "file_extension": ".py",
   "mimetype": "text/x-python",
   "name": "python",
   "nbconvert_exporter": "python",
   "pygments_lexer": "ipython3",
   "version": "3.8.19"
  }
 },
 "nbformat": 4,
 "nbformat_minor": 2
}
